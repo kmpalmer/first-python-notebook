{
 "cells": [
  {
   "cell_type": "code",
   "execution_count": 211,
   "metadata": {},
   "outputs": [],
   "source": [
    "import json\n",
    "import requests\n",
    "\n",
    "def main():\n",
    "    members = get_members()\n",
    "    top_5 = group_members() \n",
    "    return top_5"
   ]
  },
  {
   "cell_type": "code",
   "execution_count": 212,
   "metadata": {},
   "outputs": [],
   "source": [
    "#get members and create list of members only\n",
    "def get_members():\n",
    "    api_key = 'cH9G0wsa6am68n7HdmEacz7xvLTGQyqjyPMOL24M'\n",
    "    url = 'https://api.propublica.org/congress/v1/116/senate/members.json'\n",
    "    hdr = {'X-API-Key': api_key}\n",
    "    response = requests.get(url, headers=hdr)\n",
    "    data = response.json()\n",
    "    members = data['results'][0]['members']\n",
    "    return members"
   ]
  },
  {
   "cell_type": "code",
   "execution_count": 213,
   "metadata": {},
   "outputs": [],
   "source": [
    "#group senators by party \n",
    "#https://stackoverflow.com/questions/8653516/python-list-of-dictionaries-search\n",
    "def group_members():\n",
    "    dem_members = list(filter(lambda row: row['party'] == 'D', members))\n",
    "    rep_members = list(filter(lambda row: row['party'] == 'R', members))\n",
    "#sort senators by votes_with_party_pct\n",
    "#https://stackoverflow.com/questions/72899/how-do-i-sort-a-list-of-dictionaries-by-a-value-of-the-dictionary\n",
    "    sorted_dem = sorted(dem_members, key=lambda k: k['votes_with_party_pct'])\n",
    "    sorted_rep = sorted(rep_members, key=lambda k: k['votes_with_party_pct'])\n",
    "#output lowest 5\n",
    "    best_dem = sorted_dem[:5]\n",
    "    best_rep = sorted_rep[:5]\n",
    "#print name, state, and votes with party score\n",
    "    for row in best_dem:\n",
    "        name = row['first_name'] + row['last_name']\n",
    "        state = row['state']\n",
    "        score = str(row['votes_with_party_pct'])\n",
    "        print('Democratic Senator ' + name + ' from ' + state + ' votes with their party ' + score + ' percent of the time.' )\n",
    "    for row in best_rep:\n",
    "        name = row['first_name'] + row['last_name']\n",
    "        state = row['state']\n",
    "        score = str(row['votes_with_party_pct'])\n",
    "        print('Republican Senator ' + name + ' from ' + state + ' votes with their party ' + score + ' percent of the time.' )"
   ]
  }
 ],
 "metadata": {
  "kernelspec": {
   "display_name": "Python 3",
   "language": "python",
   "name": "python3"
  },
  "language_info": {
   "codemirror_mode": {
    "name": "ipython",
    "version": 3
   },
   "file_extension": ".py",
   "mimetype": "text/x-python",
   "name": "python",
   "nbconvert_exporter": "python",
   "pygments_lexer": "ipython3",
   "version": "3.7.2"
  }
 },
 "nbformat": 4,
 "nbformat_minor": 2
}
