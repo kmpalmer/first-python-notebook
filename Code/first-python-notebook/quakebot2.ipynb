{
 "cells": [
  {
   "cell_type": "code",
   "execution_count": 49,
   "metadata": {},
   "outputs": [],
   "source": [
    "def main():\n",
    "    import json\n",
    "    import requests\n",
    "    import smtplib \n",
    "    quakes = call()\n",
    "    sorted_quakes = sort()\n",
    "    message = message()\n",
    "    email()\n",
    "    \n",
    "#get data\n",
    "def call():\n",
    "    url = 'https://earthquake.usgs.gov/earthquakes/feed/v1.0/summary/all_day.geojson'\n",
    "    data = requests.get(url)\n",
    "    output = data.json()\n",
    "    quakes = output['features']\n",
    "    return quakes\n",
    "\n",
    "#sort quakes in descending order of magnitude, report top 10\n",
    "def sort():\n",
    "    def magnitude(quakes):\n",
    "        return float(quakes['properties']['mag'])\n",
    "    sorted_quakes = sorted(quakes, key=magnitude, reverse=True)[0:10]\n",
    "    return sorted_quakes\n",
    "\n",
    "#create message with total quakes and list of top 10 by magnitude\n",
    "def message():\n",
    "    body = 'In the last 24 hours, there were ' + str(len(quakes)) + ' earthquakes. The top 10, by magnitude: ' + '\\n'\n",
    "    for i in range(10):\n",
    "        row = (sorted_quakes[i]['properties']['place']).upper() + ' (' + str(sorted_quakes[i]['properties']['mag']) + ') '         \n",
    "        body += row\n",
    "    return body\n",
    "\n",
    "#send an email from gmail to stanford with total number of quakes and location/magnitude of top 10\n",
    "def email():\n",
    "    smtpObj = smtplib.SMTP('smtp.gmail.com', 587)\n",
    "    smtpObj.ehlo()\n",
    "    smtpObj.starttls()\n",
    "    smtpObj.login('k.malone.palmer@gmail.com', 'vpsxennudrmcwyog')\n",
    "    smtpObj.sendmail('k.malone.palmer@gmail.com', 'kmpalmer@stanford.edu', message)\n",
    "    smptObj.quit()\n",
    "\n",
    "    \n",
    " \n",
    "\n",
    "\n"
   ]
  },
  {
   "cell_type": "code",
   "execution_count": 37,
   "metadata": {},
   "outputs": [],
   "source": [
    "#get data and return a list of quakes, each as dict\n",
    "def call():\n",
    "    url = 'https://earthquake.usgs.gov/earthquakes/feed/v1.0/summary/all_day.geojson'\n",
    "    data = requests.get(url)\n",
    "    output = data.json()\n",
    "    quakes = output['features']\n",
    "    return quakes"
   ]
  },
  {
   "cell_type": "code",
   "execution_count": 39,
   "metadata": {},
   "outputs": [],
   "source": [
    "#sort quakes in descending order of magnitude, report top 10\n",
    "def sort():\n",
    "    def magnitude(quakes):\n",
    "        return float(quakes['properties']['mag'])\n",
    "    sorted_quakes = sorted(quakes, key=magnitude, reverse=True)[0:10]\n",
    "    return sorted_quakes\n"
   ]
  },
  {
   "cell_type": "code",
   "execution_count": 48,
   "metadata": {},
   "outputs": [
    {
     "data": {
      "text/plain": [
       "'In the last 24 hours, there were 280 earthquakes. The top 10, by magnitude: 129KM NW OF KOTA TERNATE, INDONESIA (5.7) 43KM NE OF AUKI, SOLOMON ISLANDS (5.5) 99KM ENE OF TOBELO, INDONESIA (5.4) 135KM ESE OF SHIZUNAI, JAPAN (4.9) 213KM W OF ABEPURA, INDONESIA (4.8) 32KM ESE OF KANDRIAN, PAPUA NEW GUINEA (4.8) 85KM SW OF HAWAIIAN OCEAN VIEW, HAWAII (4.62) 169KM E OF NAGO, JAPAN (4.6) 17KM N OF YUJING, TAIWAN (4.5) 37KM E OF GENERAL LUNA, PHILIPPINES (4.5) '"
      ]
     },
     "execution_count": 48,
     "metadata": {},
     "output_type": "execute_result"
    }
   ],
   "source": [
    "#create message with total quakes and list of top 10 by magnitude\n",
    "def message():\n",
    "    body = 'In the last 24 hours, there were ' + str(len(quakes)) + ' earthquakes. The top 10, by magnitude: '\n",
    "    for i in range(10):\n",
    "        row = (sorted_quakes[i]['properties']['place']).upper() + ' (' + str(sorted_quakes[i]['properties']['mag']) + ') '         \n",
    "        body += row\n",
    "    return body"
   ]
  },
  {
   "cell_type": "code",
   "execution_count": 43,
   "metadata": {},
   "outputs": [],
   "source": [
    "#send an email from gmail to stanford with total number of quakes and location/magnitude of top 10\n",
    "def email():\n",
    "    import smtplib \n",
    "    smtpObj = smtplib.SMTP('smtp.gmail.com', 587)\n",
    "    smtpObj.ehlo()\n",
    "    smtpObj.starttls()\n",
    "    smtpObj.login('k.malone.palmer@gmail.com', 'vpsxennudrmcwyog')\n",
    "    smtpObj.sendmail('k.malone.palmer@gmail.com', 'kmpalmer@stanford.edu', message)\n",
    "    smptObj.quit()"
   ]
  },
  {
   "cell_type": "code",
   "execution_count": 47,
   "metadata": {},
   "outputs": [
    {
     "name": "stdout",
     "output_type": "stream",
     "text": [
      "In the last 24 hours, there were 280 earthquakes. The top 10, by magnitude: 129KM NW OF KOTA TERNATE, INDONESIA (5.7) 43KM NE OF AUKI, SOLOMON ISLANDS (5.5) 99KM ENE OF TOBELO, INDONESIA (5.4) 135KM ESE OF SHIZUNAI, JAPAN (4.9) 213KM W OF ABEPURA, INDONESIA (4.8) 32KM ESE OF KANDRIAN, PAPUA NEW GUINEA (4.8) 85KM SW OF HAWAIIAN OCEAN VIEW, HAWAII (4.62) 169KM E OF NAGO, JAPAN (4.6) 17KM N OF YUJING, TAIWAN (4.5) 37KM E OF GENERAL LUNA, PHILIPPINES (4.5) \n"
     ]
    }
   ],
   "source": [
    "body = 'In the last 24 hours, there were ' + str(len(quakes)) + ' earthquakes. The top 10, by magnitude: '\n",
    "for i in range(10):\n",
    "    row = (sorted_quakes[i]['properties']['place']).upper() + ' (' + str(sorted_quakes[i]['properties']['mag']) + ') '         \n",
    "    body += row\n",
    "print(body)"
   ]
  },
  {
   "cell_type": "code",
   "execution_count": 42,
   "metadata": {},
   "outputs": [
    {
     "name": "stdout",
     "output_type": "stream",
     "text": [
      "In the last 24 hours, there were 280 earthquakes. The top 10, by magnitude:\n",
      "129KM NW OF KOTA TERNATE, INDONESIA (5.7)\n",
      "43KM NE OF AUKI, SOLOMON ISLANDS (5.5)\n",
      "99KM ENE OF TOBELO, INDONESIA (5.4)\n",
      "135KM ESE OF SHIZUNAI, JAPAN (4.9)\n",
      "213KM W OF ABEPURA, INDONESIA (4.8)\n",
      "32KM ESE OF KANDRIAN, PAPUA NEW GUINEA (4.8)\n",
      "85KM SW OF HAWAIIAN OCEAN VIEW, HAWAII (4.62)\n",
      "169KM E OF NAGO, JAPAN (4.6)\n",
      "17KM N OF YUJING, TAIWAN (4.5)\n",
      "37KM E OF GENERAL LUNA, PHILIPPINES (4.5)\n"
     ]
    }
   ],
   "source": [
    "def quake_list():\n",
    "    print('In the last 24 hours, there were ' + str(len(quakes)) + ' earthquakes. The top 10, by magnitude:')\n",
    "    for i in range(10):\n",
    "        print((sorted_quakes[i]['properties']['place']).upper(), end = \" \")\n",
    "        print('(' + str(sorted_quakes[i]['properties']['mag']) + ')')\n",
    "quake_list()"
   ]
  },
  {
   "cell_type": "code",
   "execution_count": null,
   "metadata": {},
   "outputs": [],
   "source": []
  }
 ],
 "metadata": {
  "kernelspec": {
   "display_name": "Python 3",
   "language": "python",
   "name": "python3"
  }
 },
 "nbformat": 4,
 "nbformat_minor": 2
}
